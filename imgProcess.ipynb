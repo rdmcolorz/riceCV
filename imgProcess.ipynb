{
 "cells": [
  {
   "cell_type": "code",
   "execution_count": 1,
   "metadata": {},
   "outputs": [
    {
     "data": {
      "text/plain": [
       "\"\\nRice grain quality recognition project\\n\\ntutorial: https://machinelearningmastery.com/how-to-train-an-object-detection-model-with-keras/\\n\\nused labelme to label rice: https://github.com/wkentaro/labelme\\ndependencies:\\nmatterport/Mask_RCNN: https://github.com/matterport/Mask_RCNN#installation\\n\\nsetup venv:\\npython3 -m venv riceEnv\\n\\nproblems:\\nannotation points are in decimal places, don't know why, for time being going to cut off decimals.\\n\\n\\ndefine folder heiarchy as:\\ntraining/\\n- train_labels.csv\\n- imgs/\\n    - full.jpg\\n    - bad.jpg\\n- annots/\\n    - full.json\\n    - bad.json\\n\\n\""
      ]
     },
     "execution_count": 1,
     "metadata": {},
     "output_type": "execute_result"
    }
   ],
   "source": [
    "'''\n",
    "Rice grain quality recognition project\n",
    "\n",
    "tutorial: https://machinelearningmastery.com/how-to-train-an-object-detection-model-with-keras/\n",
    "\n",
    "used labelme to label rice: https://github.com/wkentaro/labelme\n",
    "dependencies:\n",
    "matterport/Mask_RCNN: https://github.com/matterport/Mask_RCNN#installation\n",
    "mask_rcnn doesn't work with tensorflow 2.0, using 1.14 for this project\n",
    "\n",
    "setup venv:\n",
    "python3 -m venv riceEnv\n",
    "\n",
    "problems:\n",
    "annotation points are in decimal places, don't know why, for time being going to cut off decimals.\n",
    "\n",
    "\n",
    "define folder heiarchy as:\n",
    "training/\n",
    "- train_labels.csv\n",
    "- imgs/\n",
    "    - full.jpg\n",
    "    - bad.jpg\n",
    "- annots/\n",
    "    - full.json\n",
    "    - bad.json\n",
    "\n",
    "'''"
   ]
  },
  {
   "cell_type": "code",
   "execution_count": 2,
   "metadata": {
    "scrolled": true
   },
   "outputs": [
    {
     "name": "stderr",
     "output_type": "stream",
     "text": [
      "/Users/kyy/riceCV/envrice/lib/python3.7/site-packages/tensorflow/python/framework/dtypes.py:516: FutureWarning: Passing (type, 1) or '1type' as a synonym of type is deprecated; in a future version of numpy, it will be understood as (type, (1,)) / '(1,)type'.\n",
      "  _np_qint8 = np.dtype([(\"qint8\", np.int8, 1)])\n",
      "/Users/kyy/riceCV/envrice/lib/python3.7/site-packages/tensorflow/python/framework/dtypes.py:517: FutureWarning: Passing (type, 1) or '1type' as a synonym of type is deprecated; in a future version of numpy, it will be understood as (type, (1,)) / '(1,)type'.\n",
      "  _np_quint8 = np.dtype([(\"quint8\", np.uint8, 1)])\n",
      "/Users/kyy/riceCV/envrice/lib/python3.7/site-packages/tensorflow/python/framework/dtypes.py:518: FutureWarning: Passing (type, 1) or '1type' as a synonym of type is deprecated; in a future version of numpy, it will be understood as (type, (1,)) / '(1,)type'.\n",
      "  _np_qint16 = np.dtype([(\"qint16\", np.int16, 1)])\n",
      "/Users/kyy/riceCV/envrice/lib/python3.7/site-packages/tensorflow/python/framework/dtypes.py:519: FutureWarning: Passing (type, 1) or '1type' as a synonym of type is deprecated; in a future version of numpy, it will be understood as (type, (1,)) / '(1,)type'.\n",
      "  _np_quint16 = np.dtype([(\"quint16\", np.uint16, 1)])\n",
      "/Users/kyy/riceCV/envrice/lib/python3.7/site-packages/tensorflow/python/framework/dtypes.py:520: FutureWarning: Passing (type, 1) or '1type' as a synonym of type is deprecated; in a future version of numpy, it will be understood as (type, (1,)) / '(1,)type'.\n",
      "  _np_qint32 = np.dtype([(\"qint32\", np.int32, 1)])\n",
      "/Users/kyy/riceCV/envrice/lib/python3.7/site-packages/tensorflow/python/framework/dtypes.py:525: FutureWarning: Passing (type, 1) or '1type' as a synonym of type is deprecated; in a future version of numpy, it will be understood as (type, (1,)) / '(1,)type'.\n",
      "  np_resource = np.dtype([(\"resource\", np.ubyte, 1)])\n",
      "/Users/kyy/riceCV/envrice/lib/python3.7/site-packages/tensorboard/compat/tensorflow_stub/dtypes.py:541: FutureWarning: Passing (type, 1) or '1type' as a synonym of type is deprecated; in a future version of numpy, it will be understood as (type, (1,)) / '(1,)type'.\n",
      "  _np_qint8 = np.dtype([(\"qint8\", np.int8, 1)])\n",
      "/Users/kyy/riceCV/envrice/lib/python3.7/site-packages/tensorboard/compat/tensorflow_stub/dtypes.py:542: FutureWarning: Passing (type, 1) or '1type' as a synonym of type is deprecated; in a future version of numpy, it will be understood as (type, (1,)) / '(1,)type'.\n",
      "  _np_quint8 = np.dtype([(\"quint8\", np.uint8, 1)])\n",
      "/Users/kyy/riceCV/envrice/lib/python3.7/site-packages/tensorboard/compat/tensorflow_stub/dtypes.py:543: FutureWarning: Passing (type, 1) or '1type' as a synonym of type is deprecated; in a future version of numpy, it will be understood as (type, (1,)) / '(1,)type'.\n",
      "  _np_qint16 = np.dtype([(\"qint16\", np.int16, 1)])\n",
      "/Users/kyy/riceCV/envrice/lib/python3.7/site-packages/tensorboard/compat/tensorflow_stub/dtypes.py:544: FutureWarning: Passing (type, 1) or '1type' as a synonym of type is deprecated; in a future version of numpy, it will be understood as (type, (1,)) / '(1,)type'.\n",
      "  _np_quint16 = np.dtype([(\"quint16\", np.uint16, 1)])\n",
      "/Users/kyy/riceCV/envrice/lib/python3.7/site-packages/tensorboard/compat/tensorflow_stub/dtypes.py:545: FutureWarning: Passing (type, 1) or '1type' as a synonym of type is deprecated; in a future version of numpy, it will be understood as (type, (1,)) / '(1,)type'.\n",
      "  _np_qint32 = np.dtype([(\"qint32\", np.int32, 1)])\n",
      "/Users/kyy/riceCV/envrice/lib/python3.7/site-packages/tensorboard/compat/tensorflow_stub/dtypes.py:550: FutureWarning: Passing (type, 1) or '1type' as a synonym of type is deprecated; in a future version of numpy, it will be understood as (type, (1,)) / '(1,)type'.\n",
      "  np_resource = np.dtype([(\"resource\", np.ubyte, 1)])\n"
     ]
    }
   ],
   "source": [
    "import cv2\n",
    "import os\n",
    "import re\n",
    "import json\n",
    "import pandas as pd\n",
    "import numpy as np\n",
    "from mrcnn.utils import Dataset\n",
    "\n",
    "from matplotlib import pyplot as plt\n",
    "%matplotlib inline\n",
    "\n",
    "train_dir = os.getcwd() + '/training/'"
   ]
  },
  {
   "cell_type": "code",
   "execution_count": 3,
   "metadata": {
    "scrolled": true
   },
   "outputs": [],
   "source": [
    "def extract_polygon(filename):\n",
    "    \n",
    "    with open(filename) as f:\n",
    "        ann = json.load(f)\n",
    "        \n",
    "    height = ann['imageHeight']\n",
    "    width = ann['imageWidth']\n",
    "    all_polygon = ann['shapes']\n",
    "    \n",
    "    data = [(shape['label'], \n",
    "            np.array(shape['points'], \n",
    "            dtype=np.int16)) for shape in all_polygon]\n",
    "    return height, width, polygon"
   ]
  },
  {
   "cell_type": "code",
   "execution_count": 4,
   "metadata": {},
   "outputs": [],
   "source": [
    "class riceDataset(Dataset):\n",
    "    def load_dataset(self, dataset_dir, is_train=True):\n",
    "        \n",
    "        images_dir = dataset_dir + 'imgs/'\n",
    "        annots_dir = dataset_dir + 'annots/'\n",
    "        \n",
    "        with open(dataset_dir + 'train_labels.csv') as tl:\n",
    "            labels = re.split('[,\\n]', tl.read()[:-1])\n",
    "            print(labels)\n",
    "        \n",
    "        for i, label in zip(range(len(labels)), labels):\n",
    "            self.add_class('dataset', i, label)\n",
    "        \n",
    "        for filename in os.listdir(images_dir):\n",
    "            image_id = filename[:-4]\n",
    "            image_path = images_dir + filename\n",
    "            annots_path = annots_dir + image_id + '.json'\n",
    "            width, height, polygons = extract_polygon(annots_path)\n",
    "            self.add_image('dataset', \n",
    "                           image_id=image_id, \n",
    "                           path=image_path,\n",
    "                           width=width,\n",
    "                           height=height,\n",
    "                           polygons=polygons,\n",
    "                           annotation=annots_path)\n",
    "        \n",
    "    def load_mask(self, image_id):\n",
    "        \n",
    "        info = self.image_info[image_id]\n",
    "        path = info['annotation']\n",
    "        h, w, boxes = self.extract_boxes(path)\n",
    "        masks = np.zeros([h, w, len(boxes)], dtype='uint8')\n",
    "        class_ids = []\n",
    "        for i in range(len(boxes)):\n",
    "            box = boxes[i]\n",
    "            \n",
    "    \n",
    "#     def image_reference(self, image_id):"
   ]
  },
  {
   "cell_type": "code",
   "execution_count": 5,
   "metadata": {},
   "outputs": [
    {
     "ename": "NameError",
     "evalue": "name 'extract_boxes' is not defined",
     "output_type": "error",
     "traceback": [
      "\u001b[0;31m---------------------------------------------------------------------------\u001b[0m",
      "\u001b[0;31mNameError\u001b[0m                                 Traceback (most recent call last)",
      "\u001b[0;32m<ipython-input-5-eb6b0d79b9a2>\u001b[0m in \u001b[0;36m<module>\u001b[0;34m\u001b[0m\n\u001b[1;32m      1\u001b[0m \u001b[0mrice_data\u001b[0m \u001b[0;34m=\u001b[0m \u001b[0mriceDataset\u001b[0m\u001b[0;34m(\u001b[0m\u001b[0;34m)\u001b[0m\u001b[0;34m\u001b[0m\u001b[0;34m\u001b[0m\u001b[0m\n\u001b[0;32m----> 2\u001b[0;31m \u001b[0mh\u001b[0m\u001b[0;34m,\u001b[0m \u001b[0mw\u001b[0m\u001b[0;34m,\u001b[0m \u001b[0mdata\u001b[0m \u001b[0;34m=\u001b[0m \u001b[0mextract_boxes\u001b[0m\u001b[0;34m(\u001b[0m\u001b[0;34m'./training/annots/bad.json'\u001b[0m\u001b[0;34m)\u001b[0m\u001b[0;34m\u001b[0m\u001b[0;34m\u001b[0m\u001b[0m\n\u001b[0m\u001b[1;32m      3\u001b[0m \u001b[0mprint\u001b[0m\u001b[0;34m(\u001b[0m\u001b[0mh\u001b[0m\u001b[0;34m,\u001b[0m \u001b[0mw\u001b[0m\u001b[0;34m,\u001b[0m \u001b[0mdata\u001b[0m\u001b[0;34m)\u001b[0m\u001b[0;34m\u001b[0m\u001b[0;34m\u001b[0m\u001b[0m\n\u001b[1;32m      4\u001b[0m \u001b[0mrice_data\u001b[0m\u001b[0;34m.\u001b[0m\u001b[0mload_dataset\u001b[0m\u001b[0;34m(\u001b[0m\u001b[0mtrain_dir\u001b[0m\u001b[0;34m)\u001b[0m\u001b[0;34m\u001b[0m\u001b[0;34m\u001b[0m\u001b[0m\n",
      "\u001b[0;31mNameError\u001b[0m: name 'extract_boxes' is not defined"
     ]
    }
   ],
   "source": [
    "\n",
    "rice_data = riceDataset()\n",
    "h, w, data = extract_polygon('./training/annots/bad.json')\n",
    "print(h, w, data)\n",
    "rice_data.load_dataset(train_dir)"
   ]
  },
  {
   "cell_type": "code",
   "execution_count": null,
   "metadata": {},
   "outputs": [],
   "source": []
  }
 ],
 "metadata": {
  "kernelspec": {
   "display_name": "envrice",
   "language": "python",
   "name": "envrice"
  },
  "language_info": {
   "codemirror_mode": {
    "name": "ipython",
    "version": 3
   },
   "file_extension": ".py",
   "mimetype": "text/x-python",
   "name": "python",
   "nbconvert_exporter": "python",
   "pygments_lexer": "ipython3",
   "version": "3.7.3"
  }
 },
 "nbformat": 4,
 "nbformat_minor": 2
}
